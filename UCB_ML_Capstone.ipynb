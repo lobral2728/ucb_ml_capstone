{
 "cells": [
  {
   "cell_type": "markdown",
   "id": "62c8f83c-44fb-4923-abb6-64fa360abfed",
   "metadata": {},
   "source": [
    "Just gettin' started!"
   ]
  },
  {
   "cell_type": "code",
   "execution_count": 96,
   "id": "69f48468-d2dd-49c4-8bb0-8714e748c102",
   "metadata": {},
   "outputs": [],
   "source": [
    "import pandas as pd\n",
    "import os\n",
    "import shutil\n",
    "from sklearn.utils import resample\n",
    "import seaborn as sns\n",
    "import matplotlib.pyplot as plt"
   ]
  },
  {
   "cell_type": "code",
   "execution_count": 97,
   "id": "f644d546-2bef-48fe-80b0-18a461c480eb",
   "metadata": {},
   "outputs": [],
   "source": [
    "# Load the FairFace CSV file\n",
    "df = pd.read_csv(\"data/fairface_label_train.csv\")"
   ]
  },
  {
   "cell_type": "code",
   "execution_count": 98,
   "id": "1838f760-16bd-41f8-be7d-494cd25be7e8",
   "metadata": {},
   "outputs": [
    {
     "data": {
      "text/html": [
       "<div>\n",
       "<style scoped>\n",
       "    .dataframe tbody tr th:only-of-type {\n",
       "        vertical-align: middle;\n",
       "    }\n",
       "\n",
       "    .dataframe tbody tr th {\n",
       "        vertical-align: top;\n",
       "    }\n",
       "\n",
       "    .dataframe thead th {\n",
       "        text-align: right;\n",
       "    }\n",
       "</style>\n",
       "<table border=\"1\" class=\"dataframe\">\n",
       "  <thead>\n",
       "    <tr style=\"text-align: right;\">\n",
       "      <th></th>\n",
       "      <th>file</th>\n",
       "      <th>age</th>\n",
       "      <th>gender</th>\n",
       "      <th>race</th>\n",
       "      <th>service_test</th>\n",
       "    </tr>\n",
       "  </thead>\n",
       "  <tbody>\n",
       "    <tr>\n",
       "      <th>0</th>\n",
       "      <td>train/1.jpg</td>\n",
       "      <td>50-59</td>\n",
       "      <td>Male</td>\n",
       "      <td>East Asian</td>\n",
       "      <td>True</td>\n",
       "    </tr>\n",
       "    <tr>\n",
       "      <th>1</th>\n",
       "      <td>train/2.jpg</td>\n",
       "      <td>30-39</td>\n",
       "      <td>Female</td>\n",
       "      <td>Indian</td>\n",
       "      <td>False</td>\n",
       "    </tr>\n",
       "    <tr>\n",
       "      <th>2</th>\n",
       "      <td>train/3.jpg</td>\n",
       "      <td>3-9</td>\n",
       "      <td>Female</td>\n",
       "      <td>Black</td>\n",
       "      <td>False</td>\n",
       "    </tr>\n",
       "    <tr>\n",
       "      <th>3</th>\n",
       "      <td>train/4.jpg</td>\n",
       "      <td>20-29</td>\n",
       "      <td>Female</td>\n",
       "      <td>Indian</td>\n",
       "      <td>True</td>\n",
       "    </tr>\n",
       "    <tr>\n",
       "      <th>4</th>\n",
       "      <td>train/5.jpg</td>\n",
       "      <td>20-29</td>\n",
       "      <td>Female</td>\n",
       "      <td>Indian</td>\n",
       "      <td>True</td>\n",
       "    </tr>\n",
       "  </tbody>\n",
       "</table>\n",
       "</div>"
      ],
      "text/plain": [
       "          file    age  gender        race  service_test\n",
       "0  train/1.jpg  50-59    Male  East Asian          True\n",
       "1  train/2.jpg  30-39  Female      Indian         False\n",
       "2  train/3.jpg    3-9  Female       Black         False\n",
       "3  train/4.jpg  20-29  Female      Indian          True\n",
       "4  train/5.jpg  20-29  Female      Indian          True"
      ]
     },
     "execution_count": 98,
     "metadata": {},
     "output_type": "execute_result"
    }
   ],
   "source": [
    "df.head()"
   ]
  },
  {
   "cell_type": "code",
   "execution_count": 99,
   "id": "e8c40d6f-7463-4fd0-9d96-0c1092e4f66f",
   "metadata": {},
   "outputs": [
    {
     "data": {
      "text/plain": [
       "(86744, 5)"
      ]
     },
     "execution_count": 99,
     "metadata": {},
     "output_type": "execute_result"
    }
   ],
   "source": [
    "df.shape"
   ]
  },
  {
   "cell_type": "code",
   "execution_count": 100,
   "id": "8a33d895-8d7d-48a3-ad0f-72016f95f5eb",
   "metadata": {},
   "outputs": [
    {
     "data": {
      "text/plain": [
       "array(['50-59', '30-39', '3-9', '20-29', '40-49', '10-19', '60-69', '0-2',\n",
       "       'more than 70'], dtype=object)"
      ]
     },
     "execution_count": 100,
     "metadata": {},
     "output_type": "execute_result"
    }
   ],
   "source": [
    "df['age'].unique()"
   ]
  },
  {
   "cell_type": "code",
   "execution_count": 101,
   "id": "80eef5c1-efde-410e-b9a3-2971cb2979d3",
   "metadata": {},
   "outputs": [],
   "source": [
    "# It's highly unlikely that kids under the age of 20 are working in this organization.\n",
    "df = df[~df['age'].isin(['0-2', '3-9', '10-19'])]"
   ]
  },
  {
   "cell_type": "code",
   "execution_count": 102,
   "id": "34673ae6-052d-4299-a16d-13739395bb85",
   "metadata": {},
   "outputs": [
    {
     "data": {
      "text/plain": [
       "(65441, 5)"
      ]
     },
     "execution_count": 102,
     "metadata": {},
     "output_type": "execute_result"
    }
   ],
   "source": [
    "df.shape"
   ]
  },
  {
   "cell_type": "code",
   "execution_count": 103,
   "id": "3aa266fe-b8ad-4365-bb53-84080ac8d134",
   "metadata": {},
   "outputs": [
    {
     "name": "stdout",
     "output_type": "stream",
     "text": [
      "['East Asian' 'Indian' 'White' 'Middle Eastern' 'Latino_Hispanic'\n",
      " 'Southeast Asian' 'Black']\n",
      "['Male' 'Female']\n"
     ]
    }
   ],
   "source": [
    "print(df['race'].unique())\n",
    "print(df['gender'].unique())"
   ]
  },
  {
   "cell_type": "code",
   "execution_count": 104,
   "id": "a5e0f473-ce92-4d98-9f87-875a9d8d893a",
   "metadata": {},
   "outputs": [],
   "source": [
    "# Stratified sampling: race × gender\n",
    "# samples_per_group = 500\n",
    "\n",
    "# df_balanced = (\n",
    "#     df.groupby(['race', 'gender']).apply(\n",
    "#         lambda x: x.sample(min(len(x), samples_per_group), random_state=42).assign(race=x['race'].iloc[0], gender=x['gender'].iloc[0]),\n",
    "#         include_groups=False\n",
    "#     )\n",
    "#     .reset_index(drop=True)\n",
    "# )\n",
    "samples_per_group = 500\n",
    "\n",
    "grouped = df.groupby(['race', 'gender'], group_keys=False)\n",
    "df_balanced = pd.concat([\n",
    "    group.sample(min(len(group), samples_per_group), random_state=42)\n",
    "    for _, group in grouped\n",
    "], ignore_index=True)"
   ]
  },
  {
   "cell_type": "code",
   "execution_count": 105,
   "id": "f789308b-0c99-48f5-983f-fb3729f3bc3a",
   "metadata": {},
   "outputs": [
    {
     "name": "stdout",
     "output_type": "stream",
     "text": [
      "               race  gender  count\n",
      "0             Black  Female    500\n",
      "1             Black    Male    500\n",
      "2        East Asian  Female    500\n",
      "3        East Asian    Male    500\n",
      "4            Indian  Female    500\n",
      "5            Indian    Male    500\n",
      "6   Latino_Hispanic  Female    500\n",
      "7   Latino_Hispanic    Male    500\n",
      "8    Middle Eastern  Female    500\n",
      "9    Middle Eastern    Male    500\n",
      "10  Southeast Asian  Female    500\n",
      "11  Southeast Asian    Male    500\n",
      "12            White  Female    500\n",
      "13            White    Male    500\n"
     ]
    }
   ],
   "source": [
    "group_counts = df_balanced.groupby(['race', 'gender']).size().reset_index(name='count')\n",
    "print(group_counts)"
   ]
  },
  {
   "cell_type": "code",
   "execution_count": 106,
   "id": "7acf9c21-58d6-40e2-9850-ac0c99bfbf06",
   "metadata": {},
   "outputs": [
    {
     "name": "stdout",
     "output_type": "stream",
     "text": [
      "Index(['file', 'age', 'gender', 'race', 'service_test'], dtype='object')\n"
     ]
    }
   ],
   "source": [
    "print(df_balanced.columns)"
   ]
  },
  {
   "cell_type": "code",
   "execution_count": 107,
   "id": "1a165b23-a8f0-44ff-ac31-87ab9d265123",
   "metadata": {},
   "outputs": [
    {
     "data": {
      "image/png": "[encoded data removed]",
      "text/plain": [
       "<Figure size 1000x500 with 1 Axes>"
      ]
     },
     "metadata": {},
     "output_type": "display_data"
    }
   ],
   "source": [
    "plt.figure(figsize=(10, 5))\n",
    "sns.countplot(data=df_balanced, x='race', hue='gender')\n",
    "plt.title('Distribution of Race and Gender in Balanced Subset')\n",
    "plt.xticks(rotation=45)\n",
    "plt.tight_layout()\n",
    "plt.show()"
   ]
  },
  {
   "cell_type": "code",
   "execution_count": 108,
   "id": "f4f34d08-11e0-49a9-b0b2-96eb3554dfa4",
   "metadata": {},
   "outputs": [],
   "source": [
    "# Save selected subset\n",
    "df_balanced.to_csv(\"data/fairface_subset.csv\", index=False)"
   ]
  },
  {
   "cell_type": "code",
   "execution_count": 115,
   "id": "c14a9928-df39-4361-ac80-42ef07d5180a",
   "metadata": {},
   "outputs": [],
   "source": [
    "# Copy images to output folder\n",
    "src_img_dir = \"data/fairface-img-margin125-trainval/train\"\n",
    "dst_img_dir = \"dataset/human/\"\n",
    "os.makedirs(dst_img_dir, exist_ok=True)\n",
    "\n",
    "# Strip 'train/' prefix from file column if present\n",
    "df_balanced['file'] = df_balanced['file'].apply(lambda x: os.path.basename(x))\n",
    "\n",
    "for img in df_balanced['file']:\n",
    "    src_path = os.path.join(src_img_dir, img)\n",
    "    dst_path = os.path.join(dst_img_dir, img)\n",
    "    if os.path.exists(src_path):\n",
    "        shutil.copy(src_path, dst_path)"
   ]
  },
  {
   "cell_type": "code",
   "execution_count": null,
   "id": "b0481a1e-65b7-42cf-b54e-97b79f5a9432",
   "metadata": {},
   "outputs": [],
   "source": []
  }
 ],
 "metadata": {
  "kernelspec": {
   "display_name": "Python [conda env:base] *",
   "language": "python",
   "name": "conda-base-py"
  },
  "language_info": {
   "codemirror_mode": {
    "name": "ipython",
    "version": 3
   },
   "file_extension": ".py",
   "mimetype": "text/x-python",
   "name": "python",
   "nbconvert_exporter": "python",
   "pygments_lexer": "ipython3",
   "version": "3.12.7"
  }
 },
 "nbformat": 4,
 "nbformat_minor": 5
}
